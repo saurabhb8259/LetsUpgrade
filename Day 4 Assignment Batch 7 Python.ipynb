{
 "cells": [
  {
   "cell_type": "markdown",
   "metadata": {},
   "source": [
    "# Qno.1 Day 4"
   ]
  },
  {
   "cell_type": "code",
   "execution_count": 1,
   "metadata": {},
   "outputs": [
    {
     "name": "stdout",
     "output_type": "stream",
     "text": [
      "The First Armstrong Number- 1100000\n"
     ]
    }
   ],
   "source": [
    "i=1042000\n",
    "while(i!=702648266):\n",
    "    a=str(i)\n",
    "    sum=0\n",
    "    csum=0\n",
    "    j=0\n",
    "    while(j<len(a)):\n",
    "        sum=sum+int(a[j])\n",
    "        csum=csum+(int(a[j])**3)\n",
    "        j=j+1\n",
    "    if(sum==csum):\n",
    "        print(\"The First Armstrong Number-\",a)\n",
    "        break\n",
    "    i=i+1"
   ]
  },
  {
   "cell_type": "code",
   "execution_count": null,
   "metadata": {},
   "outputs": [],
   "source": []
  }
 ],
 "metadata": {
  "kernelspec": {
   "display_name": "Python 3",
   "language": "python",
   "name": "python3"
  },
  "language_info": {
   "codemirror_mode": {
    "name": "ipython",
    "version": 3
   },
   "file_extension": ".py",
   "mimetype": "text/x-python",
   "name": "python",
   "nbconvert_exporter": "python",
   "pygments_lexer": "ipython3",
   "version": "3.8.3"
  }
 },
 "nbformat": 4,
 "nbformat_minor": 4
}
